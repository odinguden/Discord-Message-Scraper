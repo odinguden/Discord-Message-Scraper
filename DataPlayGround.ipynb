{
 "cells": [
  {
   "cell_type": "markdown",
   "metadata": {},
   "source": [
    "# Collect all code in one dataframe"
   ]
  },
  {
   "cell_type": "code",
   "execution_count": null,
   "metadata": {},
   "outputs": [],
   "source": [
    "import pandas as pd\n",
    "#import plt\n",
    "import matplotlib.pyplot as plt\n",
    "import numpy as np\n",
    "import glob\n",
    "\n",
    "# Get a list of all CSV files in the running directory\n",
    "csv_files = glob.glob('*.csv')\n",
    "\n",
    "# Load each CSV file into a dataframe and concatenate them into a single dataframe\n",
    "df_list = [pd.read_csv(file) for file in csv_files]\n",
    "combined_df = pd.concat(df_list, ignore_index=True)\n",
    "\n",
    "#Drops the first column of the dataframe\n",
    "combined_df = combined_df.drop(combined_df.columns[0], axis=1)\n",
    "\n",
    "print(combined_df.head())\n",
    "\n",
    "# Save the combined dataframe to a new CSV file\n",
    "#combined_df.to_csv('combined_csv.csv', index=False)"
   ]
  },
  {
   "cell_type": "code",
   "execution_count": null,
   "metadata": {},
   "outputs": [],
   "source": [
    "# Find the user who has sent the most messages\n",
    "most_active_user = combined_df['author'].value_counts().idxmax()\n",
    "most_messages_count = combined_df['author'].value_counts().max()\n",
    "\n",
    "print(f\"The user who has sent the most messages is: {most_active_user} with {most_messages_count} messages.\")\n",
    "\n",
    "# Find the user who has sent the least messages\n",
    "least_active_user = combined_df['author'].value_counts().idxmin()\n",
    "\n",
    "#print all user message count\n",
    "print(combined_df['author'].value_counts())"
   ]
  },
  {
   "cell_type": "code",
   "execution_count": null,
   "metadata": {},
   "outputs": [],
   "source": [
    "# Get the count of messages sent by each user\n",
    "user_message_counts = combined_df['author'].value_counts()\n",
    "\n",
    "# Plot the pie chart\n",
    "plt.figure(figsize=(10, 8))\n",
    "plt.pie(user_message_counts, labels=user_message_counts.index, autopct='%1.1f%%', startangle=140)\n",
    "plt.axis('equal')\n",
    "plt.title('Messages Sent by Each User')\n",
    "plt.show()"
   ]
  },
  {
   "cell_type": "code",
   "execution_count": null,
   "metadata": {},
   "outputs": [],
   "source": [
    "# Convert the timestamp column to datetime\n",
    "combined_df['timestamp'] = pd.to_datetime(combined_df['timestamp'], format='ISO8601')\n",
    "\n",
    "# Extract the date from the timestamp\n",
    "combined_df['date'] = combined_df['timestamp'].dt.date\n",
    "\n",
    "# Find the date with the most messages\n",
    "most_messages_date = combined_df['date'].value_counts().idxmax()\n",
    "most_messages_date_count = combined_df['date'].value_counts().max()\n",
    "\n",
    "print(f\"The date with the most messages is: {most_messages_date} with {most_messages_date_count} messages.\")"
   ]
  },
  {
   "cell_type": "code",
   "execution_count": null,
   "metadata": {},
   "outputs": [],
   "source": [
    "# Group by date and count the number of messages per day\n",
    "messages_per_day = combined_df.groupby('date').size()\n",
    "\n",
    "# Plot the data\n",
    "plt.figure(figsize=(12, 6))\n",
    "messages_per_day.plot(kind='line')\n",
    "plt.xlabel('Date')\n",
    "plt.ylabel('Number of Messages')\n",
    "plt.title('Number of Messages Sent Per Day')\n",
    "plt.grid(True)\n",
    "plt.show()"
   ]
  },
  {
   "cell_type": "code",
   "execution_count": null,
   "metadata": {},
   "outputs": [],
   "source": [
    "from collections import Counter\n",
    "import re\n",
    "\n",
    "# Combine all messages into a single string\n",
    "all_messages = ' '.join(combined_df['message'].dropna())\n",
    "\n",
    "# Use regular expressions to find all words\n",
    "words = re.findall(r'\\b\\w+\\b', all_messages.lower())\n",
    "\n",
    "# Count the frequency of each word\n",
    "word_counts = Counter(words)\n",
    "\n",
    "# Find the 10 most common words\n",
    "most_common_words = word_counts.most_common(200)\n",
    "\n",
    "print(\"The 10 most common words are:\")\n",
    "i = 0\n",
    "for word, count in most_common_words:\n",
    "    i += 1\n",
    "    print(f\"{i}. : {word}: {count}\")\n"
   ]
  },
  {
   "cell_type": "code",
   "execution_count": null,
   "metadata": {},
   "outputs": [],
   "source": [
    "# Define the specific word you want to search for\n",
    "specific_word = 'arne'\n",
    "\n",
    "# Get the count of the specific word\n",
    "specific_word_count = word_counts[specific_word]\n",
    "\n",
    "print(f\"The word '{specific_word}' has been written {specific_word_count} times.\")"
   ]
  },
  {
   "cell_type": "code",
   "execution_count": null,
   "metadata": {},
   "outputs": [],
   "source": [
    "# Extract the hour from the timestamp\n",
    "combined_df['hour'] = combined_df['timestamp'].dt.hour\n",
    "\n",
    "# Find the hour with the most messages\n",
    "most_messages_hour = combined_df['hour'].value_counts().idxmax()\n",
    "most_messages_hour_count = combined_df['hour'].value_counts().max()\n",
    "least_messages_hour = combined_df['hour'].value_counts().idxmin()\n",
    "least_messages_hour_count = combined_df['hour'].value_counts().min()\n",
    "\n",
    "print(f\"The hour with the most messages is: {most_messages_hour}:00 with {most_messages_hour_count} messages.\")\n",
    "print(f\"The hour with the most messages is: {least_messages_hour}:00 with {least_messages_hour_count} messages.\")\n"
   ]
  },
  {
   "cell_type": "code",
   "execution_count": null,
   "metadata": {},
   "outputs": [],
   "source": [
    "# Extract the words and their counts\n",
    "words, counts = zip(*most_common_words[:20])  # Get the top 10 most common words\n",
    "\n",
    "# Plot the pie chart\n",
    "plt.figure(figsize=(10, 8))\n",
    "plt.pie(counts, labels=words, autopct='%1.1f%%', startangle=140)\n",
    "plt.axis('equal')\n",
    "plt.title('Top 10 Most Common Words')\n",
    "plt.show()"
   ]
  },
  {
   "cell_type": "code",
   "execution_count": null,
   "metadata": {},
   "outputs": [],
   "source": [
    "# Extract the words and their counts for the top 50 most common words\n",
    "top_50_words, top_50_counts = zip(*most_common_words[:50])\n",
    "\n",
    "# Plot the line graph\n",
    "plt.figure(figsize=(14, 7))\n",
    "plt.plot(top_50_words, top_50_counts, marker='o')\n",
    "plt.xticks(rotation=90)\n",
    "plt.xlabel('Words')\n",
    "plt.ylabel('Counts')\n",
    "plt.title('Top 50 Most Common Words')\n",
    "plt.grid(True)\n",
    "plt.show()"
   ]
  },
  {
   "cell_type": "code",
   "execution_count": null,
   "metadata": {},
   "outputs": [],
   "source": [
    "# Extract the hour from the timestamp\n",
    "combined_df['hour'] = combined_df['timestamp'].dt.hour\n",
    "\n",
    "# Get the count of messages sent in each hour\n",
    "messages_per_hour = combined_df['hour'].value_counts().sort_index()\n",
    "\n",
    "# Plot the histogram\n",
    "plt.figure(figsize=(12, 6))\n",
    "messages_per_hour.plot(kind='bar')\n",
    "plt.xlabel('Hour of the Day')\n",
    "plt.ylabel('Number of Messages')\n",
    "plt.title('Number of Messages Sent by Hour of the Day')\n",
    "plt.xticks(range(24), [f'{i}:00' for i in range(24)])\n",
    "plt.grid(True)\n",
    "plt.show()"
   ]
  },
  {
   "cell_type": "code",
   "execution_count": null,
   "metadata": {},
   "outputs": [],
   "source": [
    "# Get the list of unique authors\n",
    "#unique_authors = combined_df['author'].unique()\n",
    "\n",
    "unique_authors = []\n",
    "\n",
    "# Create a figure for the plots\n",
    "plt.figure(figsize=(14, 10))\n",
    "\n",
    "# Loop through each author and plot their message counts per hour\n",
    "for author in unique_authors:\n",
    "    # Filter the dataframe for the specific author\n",
    "    author_df = combined_df[combined_df['author'] == author]\n",
    "    \n",
    "    # Get the count of messages sent by the author in each hour\n",
    "    author_messages_per_hour = author_df['hour'].value_counts().sort_index()\n",
    "    \n",
    "    # Plot the data\n",
    "    plt.plot(author_messages_per_hour.index, author_messages_per_hour.values, marker='o', label=author)\n",
    "\n",
    "# Add labels and title\n",
    "plt.xlabel('Hour of the Day')\n",
    "plt.ylabel('Number of Messages')\n",
    "plt.title('Number of Messages Sent by Each User by Hour of the Day')\n",
    "plt.xticks(range(24), [f'{i}' for i in range(24)])\n",
    "plt.legend()\n",
    "plt.grid(True)\n",
    "plt.show()"
   ]
  },
  {
   "cell_type": "code",
   "execution_count": null,
   "metadata": {},
   "outputs": [],
   "source": [
    "# Define the specific author you want to analyze\n",
    "specific_author = ''\n",
    "\n",
    "# Filter the dataframe for the specific author\n",
    "author_df = combined_df[combined_df['author'] == specific_author]\n",
    "\n",
    "# Get the count of messages sent by the author in each hour\n",
    "author_messages_per_hour = author_df['hour'].value_counts().sort_index()\n",
    "\n",
    "# Plot the data\n",
    "plt.figure(figsize=(12, 6))\n",
    "author_messages_per_hour.plot(kind='line', marker='o')\n",
    "plt.xlabel('Hour of the Day')\n",
    "plt.ylabel('Number of Messages')\n",
    "plt.title(f'Number of Messages Sent by {specific_author} by Hour of the Day')\n",
    "plt.xticks(range(24), [f'{i}' for i in range(24)])\n",
    "plt.grid(True)\n",
    "plt.show()"
   ]
  },
  {
   "cell_type": "markdown",
   "metadata": {},
   "source": []
  },
  {
   "cell_type": "code",
   "execution_count": null,
   "metadata": {},
   "outputs": [],
   "source": [
    "num_rows = len(combined_df)\n",
    "print(f\"The number of rows in the combined dataframe is: {num_rows}\")"
   ]
  },
  {
   "cell_type": "code",
   "execution_count": null,
   "metadata": {},
   "outputs": [],
   "source": [
    "# Define the specific word you want to search for\n",
    "specific_word = 'eg'\n",
    "\n",
    "# Get the count of the specific word\n",
    "specific_word_count = word_counts[specific_word]\n",
    "\n",
    "print(f\"The word '{specific_word}' has been written {specific_word_count} times.\")# Define the specific word you want to search for\n",
    "specific_word = 'jeg'\n",
    "\n",
    "# Get the count of the specific word\n",
    "specific_word_count = word_counts[specific_word]\n",
    "\n",
    "print(f\"The word '{specific_word}' has been written {specific_word_count} times.\")"
   ]
  },
  {
   "cell_type": "code",
   "execution_count": null,
   "metadata": {},
   "outputs": [],
   "source": [
    "from collections import Counter\n",
    "import re\n",
    "\n",
    "# Combine all messages into a single string\n",
    "all_messages = ' '.join(combined_df['message'].dropna())\n",
    "\n",
    "# Use regular expressions to find all phrases (sequences of 2 or more words)\n",
    "phrases = re.findall(r'\\b\\w+\\b(?:\\s+\\b\\w+\\b)+', all_messages.lower())\n",
    "\n",
    "# Count the frequency of each phrase\n",
    "phrase_counts = Counter(phrases)\n",
    "\n",
    "# Find the most common phrase\n",
    "most_common_phrase, most_common_phrase_count = phrase_counts.most_common(1)[0]\n",
    "\n",
    "print(f\"The most common phrase is: '{most_common_phrase}' with {most_common_phrase_count} occurrences.\")"
   ]
  },
  {
   "cell_type": "code",
   "execution_count": null,
   "metadata": {},
   "outputs": [],
   "source": [
    "# Find the most repeated message\n",
    "most_repeated_message = combined_df['message'].value_counts().idxmax()\n",
    "most_repeated_message_count = combined_df['message'].value_counts().max()\n",
    "\n",
    "print(f\"The most repeated message is: '{most_repeated_message}' with {most_repeated_message_count} occurrences.\")"
   ]
  },
  {
   "cell_type": "code",
   "execution_count": null,
   "metadata": {},
   "outputs": [],
   "source": [
    "# Select entries that contain 'lol' in the message\n",
    "lol_entries = combined_df[combined_df['message'].str.contains('lol', na=False, case=False)]\n",
    "\n",
    "# Get the count of 'lol' messages sent by each author\n",
    "lol_author_counts = lol_entries['author'].value_counts()\n",
    "\n",
    "print(lol_author_counts)"
   ]
  },
  {
   "cell_type": "code",
   "execution_count": null,
   "metadata": {},
   "outputs": [],
   "source": [
    "from collections import defaultdict, Counter\n",
    "import re\n",
    "\n",
    "# Initialize a dictionary to hold word counts for each author\n",
    "author_word_counts = defaultdict(Counter)\n",
    "\n",
    "# Iterate over each row in the dataframe\n",
    "for index, row in combined_df.iterrows():\n",
    "    author = row['author']\n",
    "    message = row['message']\n",
    "    if pd.notna(message):\n",
    "        # Use regular expressions to find all words in the message\n",
    "        words = re.findall(r'\\b\\w+\\b', message.lower())\n",
    "        # Update the word count for the author\n",
    "        author_word_counts[author].update(words)\n",
    "\n",
    "# Find the most common words for each author\n",
    "most_common_words_per_author = {author: word_counts.most_common(10) for author, word_counts in author_word_counts.items()}\n",
    "\n",
    "# Print the most common words for each author\n",
    "for author, common_words in most_common_words_per_author.items():\n",
    "    print(f\"Most common words for {author}:\")\n",
    "    for word, count in common_words:\n",
    "        print(f\"{word}: {count}\")\n",
    "    print()"
   ]
  },
  {
   "cell_type": "code",
   "execution_count": null,
   "metadata": {},
   "outputs": [],
   "source": [
    "# Get the count of messages for each channel\n",
    "channel_message_counts = combined_df['channel'].value_counts()\n",
    "\n",
    "# Print the message count for each channel\n",
    "print(channel_message_counts)"
   ]
  }
 ],
 "metadata": {
  "kernelspec": {
   "display_name": "Python 3",
   "language": "python",
   "name": "python3"
  },
  "language_info": {
   "codemirror_mode": {
    "name": "ipython",
    "version": 3
   },
   "file_extension": ".py",
   "mimetype": "text/x-python",
   "name": "python",
   "nbconvert_exporter": "python",
   "pygments_lexer": "ipython3",
   "version": "3.12.1"
  }
 },
 "nbformat": 4,
 "nbformat_minor": 2
}
